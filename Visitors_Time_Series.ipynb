{
  "nbformat": 4,
  "nbformat_minor": 0,
  "metadata": {
    "kernelspec": {
      "display_name": "Python 3",
      "language": "python",
      "name": "python3"
    },
    "language_info": {
      "codemirror_mode": {
        "name": "ipython",
        "version": 3
      },
      "file_extension": ".py",
      "mimetype": "text/x-python",
      "name": "python",
      "nbconvert_exporter": "python",
      "pygments_lexer": "ipython3",
      "version": "3.8.3"
    },
    "colab": {
      "name": "Visitors-Time Series.ipynb",
      "provenance": [],
      "collapsed_sections": [
        "rezY3TMX21pw"
      ],
      "include_colab_link": true
    }
  },
  "cells": [
    {
      "cell_type": "markdown",
      "metadata": {
        "id": "view-in-github",
        "colab_type": "text"
      },
      "source": [
        "<a href=\"https://colab.research.google.com/github/AdityaSamantaroy/COVID19-prediction/blob/master/Visitors_Time_Series.ipynb\" target=\"_parent\"><img src=\"https://colab.research.google.com/assets/colab-badge.svg\" alt=\"Open In Colab\"/></a>"
      ]
    },
    {
      "cell_type": "markdown",
      "metadata": {
        "id": "19w-8ImIzhnx",
        "colab_type": "text"
      },
      "source": [
        "# Imports and path"
      ]
    },
    {
      "cell_type": "code",
      "metadata": {
        "id": "6bH1l2WNm4gE",
        "colab_type": "code",
        "colab": {
          "base_uri": "https://localhost:8080/",
          "height": 71
        },
        "outputId": "336bcbc6-f57c-4438-97c3-1c545b314558"
      },
      "source": [
        "import pandas as pd\n",
        "import numpy as np\n",
        "import matplotlib.pyplot as plt\n",
        "import seaborn as sns\n",
        "import tensorflow as tf\n",
        "import missingno as msno\n",
        "from sklearn.metrics import mean_absolute_error, mean_squared_error\n"
      ],
      "execution_count": 1,
      "outputs": [
        {
          "output_type": "stream",
          "text": [
            "/usr/local/lib/python3.6/dist-packages/statsmodels/tools/_testing.py:19: FutureWarning: pandas.util.testing is deprecated. Use the functions in the public API at pandas.testing instead.\n",
            "  import pandas.util.testing as tm\n"
          ],
          "name": "stderr"
        }
      ]
    },
    {
      "cell_type": "code",
      "metadata": {
        "id": "z1Yy6w9enyUq",
        "colab_type": "code",
        "colab": {
          "base_uri": "https://localhost:8080/",
          "height": 34
        },
        "outputId": "9ceefc8b-0c24-400d-e763-8be9e5f4d895"
      },
      "source": [
        "from google.colab import drive\n",
        "drive.mount('/content/gdrive', force_remount = True)"
      ],
      "execution_count": 2,
      "outputs": [
        {
          "output_type": "stream",
          "text": [
            "Mounted at /content/gdrive\n"
          ],
          "name": "stdout"
        }
      ]
    },
    {
      "cell_type": "code",
      "metadata": {
        "id": "wpJBUZtF8gnk",
        "colab_type": "code",
        "colab": {
          "base_uri": "https://localhost:8080/",
          "height": 34
        },
        "outputId": "a81fcfdc-388e-4184-f241-934747ef0e17"
      },
      "source": [
        "%ls"
      ],
      "execution_count": 3,
      "outputs": [
        {
          "output_type": "stream",
          "text": [
            "\u001b[0m\u001b[01;34mgdrive\u001b[0m/  \u001b[01;34msample_data\u001b[0m/\n"
          ],
          "name": "stdout"
        }
      ]
    },
    {
      "cell_type": "code",
      "metadata": {
        "id": "ExLfLG25nwBM",
        "colab_type": "code",
        "colab": {
          "base_uri": "https://localhost:8080/",
          "height": 34
        },
        "outputId": "e0d8c20e-0f30-40aa-ff89-89cfdf477afd"
      },
      "source": [
        "%cd \"/content/gdrive/My Drive/Machine Learning\""
      ],
      "execution_count": 4,
      "outputs": [
        {
          "output_type": "stream",
          "text": [
            "/content/gdrive/My Drive/Machine Learning\n"
          ],
          "name": "stdout"
        }
      ]
    },
    {
      "cell_type": "code",
      "metadata": {
        "id": "CT8Di6KLnzvv",
        "colab_type": "code",
        "colab": {
          "base_uri": "https://localhost:8080/",
          "height": 34
        },
        "outputId": "7088dd03-9e36-40df-b273-a4911b285972"
      },
      "source": [
        "# %mkdir flipr\n",
        "%cd flipr"
      ],
      "execution_count": 5,
      "outputs": [
        {
          "output_type": "stream",
          "text": [
            "/content/gdrive/My Drive/Machine Learning/flipr\n"
          ],
          "name": "stdout"
        }
      ]
    },
    {
      "cell_type": "code",
      "metadata": {
        "id": "inr_htSrpNJ1",
        "colab_type": "code",
        "colab": {
          "base_uri": "https://localhost:8080/",
          "height": 34
        },
        "outputId": "d7ab3328-ed47-4c54-c9f9-5a7197b597b7"
      },
      "source": [
        "%ls"
      ],
      "execution_count": 6,
      "outputs": [
        {
          "output_type": "stream",
          "text": [
            "Test_dataset.xlsx  Train_dataset.xlsx  Variable_Description.xlsx\n"
          ],
          "name": "stdout"
        }
      ]
    },
    {
      "cell_type": "markdown",
      "metadata": {
        "id": "7FUCcXY6y8QU",
        "colab_type": "text"
      },
      "source": [
        "# Data Preparation"
      ]
    },
    {
      "cell_type": "code",
      "metadata": {
        "id": "RfDmuj1f0rji",
        "colab_type": "code",
        "colab": {
          "base_uri": "https://localhost:8080/",
          "height": 201
        },
        "outputId": "db1a2c4f-31cd-4ee4-f98d-5d3ccbb3d492"
      },
      "source": [
        "tdf = pd.read_excel('Test_dataset.xlsx', sheet_name = 1, header=1)\n",
        "tdf.head()"
      ],
      "execution_count": 7,
      "outputs": [
        {
          "output_type": "execute_result",
          "data": {
            "text/html": [
              "<div>\n",
              "<style scoped>\n",
              "    .dataframe tbody tr th:only-of-type {\n",
              "        vertical-align: middle;\n",
              "    }\n",
              "\n",
              "    .dataframe tbody tr th {\n",
              "        vertical-align: top;\n",
              "    }\n",
              "\n",
              "    .dataframe thead th {\n",
              "        text-align: right;\n",
              "    }\n",
              "</style>\n",
              "<table border=\"1\" class=\"dataframe\">\n",
              "  <thead>\n",
              "    <tr style=\"text-align: right;\">\n",
              "      <th></th>\n",
              "      <th>Unnamed: 0</th>\n",
              "      <th>April</th>\n",
              "      <th>May</th>\n",
              "      <th>June</th>\n",
              "      <th>July</th>\n",
              "      <th>August</th>\n",
              "    </tr>\n",
              "  </thead>\n",
              "  <tbody>\n",
              "    <tr>\n",
              "      <th>0</th>\n",
              "      <td>Tuensang</td>\n",
              "      <td>1614.0</td>\n",
              "      <td>1946.0</td>\n",
              "      <td>2372.0</td>\n",
              "      <td>2500.0</td>\n",
              "      <td>2769</td>\n",
              "    </tr>\n",
              "    <tr>\n",
              "      <th>1</th>\n",
              "      <td>Lakshmeshwar</td>\n",
              "      <td>369179.0</td>\n",
              "      <td>445559.0</td>\n",
              "      <td>541045.0</td>\n",
              "      <td>572860.0</td>\n",
              "      <td>636502</td>\n",
              "    </tr>\n",
              "    <tr>\n",
              "      <th>2</th>\n",
              "      <td>Zira</td>\n",
              "      <td>140581.0</td>\n",
              "      <td>169665.0</td>\n",
              "      <td>206030.0</td>\n",
              "      <td>218138.0</td>\n",
              "      <td>242367</td>\n",
              "    </tr>\n",
              "    <tr>\n",
              "      <th>3</th>\n",
              "      <td>Yawal</td>\n",
              "      <td>2557179.0</td>\n",
              "      <td>3086249.0</td>\n",
              "      <td>3747597.0</td>\n",
              "      <td>3968032.0</td>\n",
              "      <td>4408916</td>\n",
              "    </tr>\n",
              "    <tr>\n",
              "      <th>4</th>\n",
              "      <td>Thana Bhawan</td>\n",
              "      <td>1800363.0</td>\n",
              "      <td>2172850.0</td>\n",
              "      <td>2638469.0</td>\n",
              "      <td>2793662.0</td>\n",
              "      <td>3104060</td>\n",
              "    </tr>\n",
              "  </tbody>\n",
              "</table>\n",
              "</div>"
            ],
            "text/plain": [
              "     Unnamed: 0      April        May       June       July   August\n",
              "0      Tuensang     1614.0     1946.0     2372.0     2500.0     2769\n",
              "1  Lakshmeshwar   369179.0   445559.0   541045.0   572860.0   636502\n",
              "2          Zira   140581.0   169665.0   206030.0   218138.0   242367\n",
              "3         Yawal  2557179.0  3086249.0  3747597.0  3968032.0  4408916\n",
              "4  Thana Bhawan  1800363.0  2172850.0  2638469.0  2793662.0  3104060"
            ]
          },
          "metadata": {
            "tags": []
          },
          "execution_count": 7
        }
      ]
    },
    {
      "cell_type": "markdown",
      "metadata": {
        "id": "KjZzWyF11bXi",
        "colab_type": "text"
      },
      "source": [
        "## Handling missing values"
      ]
    },
    {
      "cell_type": "code",
      "metadata": {
        "id": "-gaXeG2l00NM",
        "colab_type": "code",
        "colab": {
          "base_uri": "https://localhost:8080/",
          "height": 201
        },
        "outputId": "b7f578d3-be0f-425d-fdfe-b0276e6862fc"
      },
      "source": [
        "tdf.columns = ['city', 'April', 'May', 'June', 'July', 'August']\n",
        "# tdf.columns\n",
        "tdf.head()"
      ],
      "execution_count": 8,
      "outputs": [
        {
          "output_type": "execute_result",
          "data": {
            "text/html": [
              "<div>\n",
              "<style scoped>\n",
              "    .dataframe tbody tr th:only-of-type {\n",
              "        vertical-align: middle;\n",
              "    }\n",
              "\n",
              "    .dataframe tbody tr th {\n",
              "        vertical-align: top;\n",
              "    }\n",
              "\n",
              "    .dataframe thead th {\n",
              "        text-align: right;\n",
              "    }\n",
              "</style>\n",
              "<table border=\"1\" class=\"dataframe\">\n",
              "  <thead>\n",
              "    <tr style=\"text-align: right;\">\n",
              "      <th></th>\n",
              "      <th>city</th>\n",
              "      <th>April</th>\n",
              "      <th>May</th>\n",
              "      <th>June</th>\n",
              "      <th>July</th>\n",
              "      <th>August</th>\n",
              "    </tr>\n",
              "  </thead>\n",
              "  <tbody>\n",
              "    <tr>\n",
              "      <th>0</th>\n",
              "      <td>Tuensang</td>\n",
              "      <td>1614.0</td>\n",
              "      <td>1946.0</td>\n",
              "      <td>2372.0</td>\n",
              "      <td>2500.0</td>\n",
              "      <td>2769</td>\n",
              "    </tr>\n",
              "    <tr>\n",
              "      <th>1</th>\n",
              "      <td>Lakshmeshwar</td>\n",
              "      <td>369179.0</td>\n",
              "      <td>445559.0</td>\n",
              "      <td>541045.0</td>\n",
              "      <td>572860.0</td>\n",
              "      <td>636502</td>\n",
              "    </tr>\n",
              "    <tr>\n",
              "      <th>2</th>\n",
              "      <td>Zira</td>\n",
              "      <td>140581.0</td>\n",
              "      <td>169665.0</td>\n",
              "      <td>206030.0</td>\n",
              "      <td>218138.0</td>\n",
              "      <td>242367</td>\n",
              "    </tr>\n",
              "    <tr>\n",
              "      <th>3</th>\n",
              "      <td>Yawal</td>\n",
              "      <td>2557179.0</td>\n",
              "      <td>3086249.0</td>\n",
              "      <td>3747597.0</td>\n",
              "      <td>3968032.0</td>\n",
              "      <td>4408916</td>\n",
              "    </tr>\n",
              "    <tr>\n",
              "      <th>4</th>\n",
              "      <td>Thana Bhawan</td>\n",
              "      <td>1800363.0</td>\n",
              "      <td>2172850.0</td>\n",
              "      <td>2638469.0</td>\n",
              "      <td>2793662.0</td>\n",
              "      <td>3104060</td>\n",
              "    </tr>\n",
              "  </tbody>\n",
              "</table>\n",
              "</div>"
            ],
            "text/plain": [
              "           city      April        May       June       July   August\n",
              "0      Tuensang     1614.0     1946.0     2372.0     2500.0     2769\n",
              "1  Lakshmeshwar   369179.0   445559.0   541045.0   572860.0   636502\n",
              "2          Zira   140581.0   169665.0   206030.0   218138.0   242367\n",
              "3         Yawal  2557179.0  3086249.0  3747597.0  3968032.0  4408916\n",
              "4  Thana Bhawan  1800363.0  2172850.0  2638469.0  2793662.0  3104060"
            ]
          },
          "metadata": {
            "tags": []
          },
          "execution_count": 8
        }
      ]
    },
    {
      "cell_type": "code",
      "metadata": {
        "id": "ENgpRFkz06-c",
        "colab_type": "code",
        "colab": {
          "base_uri": "https://localhost:8080/",
          "height": 604
        },
        "outputId": "1725953a-c03a-40bc-f3d5-342ef26cc43b"
      },
      "source": [
        "msno.matrix(tdf)\n",
        "\n",
        "for i in range(1,6):\n",
        "  median = tdf.iloc[:,i].median()\n",
        "  tdf.iloc[:,i].fillna(median, inplace=True)\n",
        "\n",
        "msno.matrix(tdf)"
      ],
      "execution_count": 9,
      "outputs": [
        {
          "output_type": "execute_result",
          "data": {
            "text/plain": [
              "<matplotlib.axes._subplots.AxesSubplot at 0x7fce7d2aecf8>"
            ]
          },
          "metadata": {
            "tags": []
          },
          "execution_count": 9
        },
        {
          "output_type": "display_data",
          "data": {
            "image/png": "[encoded data removed]",
            "text/plain": [
              "<Figure size 1800x720 with 2 Axes>"
            ]
          },
          "metadata": {
            "tags": [],
            "needs_background": "light"
          }
        },
        {
          "output_type": "display_data",
          "data": {
            "image/png": "[encoded data removed]",
            "text/plain": [
              "<Figure size 1800x720 with 2 Axes>"
            ]
          },
          "metadata": {
            "tags": [],
            "needs_background": "light"
          }
        }
      ]
    },
    {
      "cell_type": "markdown",
      "metadata": {
        "id": "-_OMa5471e9e",
        "colab_type": "text"
      },
      "source": [
        "## Correlation with previous months' data"
      ]
    },
    {
      "cell_type": "code",
      "metadata": {
        "id": "NnnrG75Y1MC7",
        "colab_type": "code",
        "colab": {
          "base_uri": "https://localhost:8080/",
          "height": 516
        },
        "outputId": "5e51c83a-8592-46a1-ac1b-e3647de2b35b"
      },
      "source": [
        "plt.figure(figsize=(15,10))\n",
        "sns.heatmap(tdf.corr(),annot=True,cmap='viridis')"
      ],
      "execution_count": 10,
      "outputs": [
        {
          "output_type": "execute_result",
          "data": {
            "text/plain": [
              "<matplotlib.axes._subplots.AxesSubplot at 0x7fce7d2084e0>"
            ]
          },
          "metadata": {
            "tags": []
          },
          "execution_count": 10
        },
        {
          "output_type": "display_data",
          "data": {
            "image/png": "[encoded data removed]",
            "text/plain": [
              "<Figure size 1080x720 with 2 Axes>"
            ]
          },
          "metadata": {
            "tags": [],
            "needs_background": "light"
          }
        }
      ]
    },
    {
      "cell_type": "markdown",
      "metadata": {
        "id": "R4xZKBmM1R0P",
        "colab_type": "text"
      },
      "source": [
        "## Preparing input and output to models"
      ]
    },
    {
      "cell_type": "code",
      "metadata": {
        "id": "kPuTDkFEP03O",
        "colab_type": "code",
        "colab": {
          "base_uri": "https://localhost:8080/",
          "height": 34
        },
        "outputId": "4406b967-c545-4aad-8a41-74d9cd308620"
      },
      "source": [
        "x = np.array(tdf.iloc[:,1:5].values)\n",
        "# print(x.shape)\n",
        "y = tdf.iloc[:,-1]\n",
        "\n",
        "x = x[:,:, np.newaxis]\n",
        "y = y[:, np.newaxis]\n",
        "\n",
        "minn = x.min()\n",
        "maxx = x.max()\n",
        "\n",
        "x = (x - minn)/(maxx- minn)\n",
        "# print(x)\n",
        "\n",
        "y = (y - minn)/(maxx - minn)\n",
        "# print(y)\n",
        "\n",
        "print(x.shape,y.shape)"
      ],
      "execution_count": 11,
      "outputs": [
        {
          "output_type": "stream",
          "text": [
            "(501, 4, 1) (501, 1)\n"
          ],
          "name": "stdout"
        }
      ]
    },
    {
      "cell_type": "markdown",
      "metadata": {
        "id": "JAgDl1Y-0lao",
        "colab_type": "text"
      },
      "source": [
        "# Time Series Model"
      ]
    },
    {
      "cell_type": "markdown",
      "metadata": {
        "id": "zko0sY752h6s",
        "colab_type": "text"
      },
      "source": [
        "### LSTM model, mse: 0.0040 - mae: 0.0294"
      ]
    },
    {
      "cell_type": "code",
      "metadata": {
        "id": "lRvci7QK8fOH",
        "colab_type": "code",
        "colab": {
          "base_uri": "https://localhost:8080/",
          "height": 1000
        },
        "outputId": "ba77fbf7-141a-4606-b5ce-2b77949589a5"
      },
      "source": [
        "model = tf.keras.models.Sequential([\n",
        "                  tf.keras.layers.LSTM(2, input_shape = (4, 1)),\n",
        "                  tf.keras.layers.Dense(3, activation=\"relu\"),\n",
        "                  tf.keras.layers.Dense(1, activation=\"relu\")\n",
        "])\n",
        "\n",
        "model.compile(loss='mse', optimizer='adam', metrics=['mse', 'mae'])\n",
        "\n",
        "model.fit(x=x, y=y, verbose=1, epochs=100)"
      ],
      "execution_count": 12,
      "outputs": [
        {
          "output_type": "stream",
          "text": [
            "Epoch 1/100\n",
            "16/16 [==============================] - 0s 3ms/step - loss: 0.2801 - mse: 0.2801 - mae: 0.3633\n",
            "Epoch 2/100\n",
            "16/16 [==============================] - 0s 3ms/step - loss: 0.2481 - mse: 0.2481 - mae: 0.3340\n",
            "Epoch 3/100\n",
            "16/16 [==============================] - 0s 3ms/step - loss: 0.2181 - mse: 0.2181 - mae: 0.3114\n",
            "Epoch 4/100\n",
            "16/16 [==============================] - 0s 3ms/step - loss: 0.1921 - mse: 0.1921 - mae: 0.2957\n",
            "Epoch 5/100\n",
            "16/16 [==============================] - 0s 3ms/step - loss: 0.1671 - mse: 0.1671 - mae: 0.2812\n",
            "Epoch 6/100\n",
            "16/16 [==============================] - 0s 3ms/step - loss: 0.1452 - mse: 0.1452 - mae: 0.2700\n",
            "Epoch 7/100\n",
            "16/16 [==============================] - 0s 3ms/step - loss: 0.1256 - mse: 0.1256 - mae: 0.2580\n",
            "Epoch 8/100\n",
            "16/16 [==============================] - 0s 3ms/step - loss: 0.1081 - mse: 0.1081 - mae: 0.2472\n",
            "Epoch 9/100\n",
            "16/16 [==============================] - 0s 3ms/step - loss: 0.0920 - mse: 0.0920 - mae: 0.2343\n",
            "Epoch 10/100\n",
            "16/16 [==============================] - 0s 3ms/step - loss: 0.0781 - mse: 0.0781 - mae: 0.2203\n",
            "Epoch 11/100\n",
            "16/16 [==============================] - 0s 3ms/step - loss: 0.0651 - mse: 0.0651 - mae: 0.2029\n",
            "Epoch 12/100\n",
            "16/16 [==============================] - 0s 3ms/step - loss: 0.0529 - mse: 0.0529 - mae: 0.1841\n",
            "Epoch 13/100\n",
            "16/16 [==============================] - 0s 3ms/step - loss: 0.0415 - mse: 0.0415 - mae: 0.1621\n",
            "Epoch 14/100\n",
            "16/16 [==============================] - 0s 3ms/step - loss: 0.0317 - mse: 0.0317 - mae: 0.1376\n",
            "Epoch 15/100\n",
            "16/16 [==============================] - 0s 4ms/step - loss: 0.0236 - mse: 0.0236 - mae: 0.1155\n",
            "Epoch 16/100\n",
            "16/16 [==============================] - 0s 3ms/step - loss: 0.0168 - mse: 0.0168 - mae: 0.0941\n",
            "Epoch 17/100\n",
            "16/16 [==============================] - 0s 3ms/step - loss: 0.0123 - mse: 0.0123 - mae: 0.0749\n",
            "Epoch 18/100\n",
            "16/16 [==============================] - 0s 3ms/step - loss: 0.0091 - mse: 0.0091 - mae: 0.0630\n",
            "Epoch 19/100\n",
            "16/16 [==============================] - 0s 3ms/step - loss: 0.0072 - mse: 0.0072 - mae: 0.0535\n",
            "Epoch 20/100\n",
            "16/16 [==============================] - 0s 3ms/step - loss: 0.0061 - mse: 0.0061 - mae: 0.0464\n",
            "Epoch 21/100\n",
            "16/16 [==============================] - 0s 3ms/step - loss: 0.0055 - mse: 0.0055 - mae: 0.0414\n",
            "Epoch 22/100\n",
            "16/16 [==============================] - 0s 3ms/step - loss: 0.0052 - mse: 0.0052 - mae: 0.0396\n",
            "Epoch 23/100\n",
            "16/16 [==============================] - 0s 3ms/step - loss: 0.0050 - mse: 0.0050 - mae: 0.0393\n",
            "Epoch 24/100\n",
            "16/16 [==============================] - 0s 3ms/step - loss: 0.0049 - mse: 0.0049 - mae: 0.0396\n",
            "Epoch 25/100\n",
            "16/16 [==============================] - 0s 3ms/step - loss: 0.0049 - mse: 0.0049 - mae: 0.0398\n",
            "Epoch 26/100\n",
            "16/16 [==============================] - 0s 3ms/step - loss: 0.0048 - mse: 0.0048 - mae: 0.0397\n",
            "Epoch 27/100\n",
            "16/16 [==============================] - 0s 3ms/step - loss: 0.0048 - mse: 0.0048 - mae: 0.0385\n",
            "Epoch 28/100\n",
            "16/16 [==============================] - 0s 3ms/step - loss: 0.0047 - mse: 0.0047 - mae: 0.0375\n",
            "Epoch 29/100\n",
            "16/16 [==============================] - 0s 3ms/step - loss: 0.0047 - mse: 0.0047 - mae: 0.0382\n",
            "Epoch 30/100\n",
            "16/16 [==============================] - 0s 3ms/step - loss: 0.0047 - mse: 0.0047 - mae: 0.0373\n",
            "Epoch 31/100\n",
            "16/16 [==============================] - 0s 3ms/step - loss: 0.0046 - mse: 0.0046 - mae: 0.0375\n",
            "Epoch 32/100\n",
            "16/16 [==============================] - 0s 3ms/step - loss: 0.0046 - mse: 0.0046 - mae: 0.0375\n",
            "Epoch 33/100\n",
            "16/16 [==============================] - 0s 3ms/step - loss: 0.0046 - mse: 0.0046 - mae: 0.0379\n",
            "Epoch 34/100\n",
            "16/16 [==============================] - 0s 3ms/step - loss: 0.0046 - mse: 0.0046 - mae: 0.0375\n",
            "Epoch 35/100\n",
            "16/16 [==============================] - 0s 3ms/step - loss: 0.0045 - mse: 0.0045 - mae: 0.0373\n",
            "Epoch 36/100\n",
            "16/16 [==============================] - 0s 3ms/step - loss: 0.0045 - mse: 0.0045 - mae: 0.0378\n",
            "Epoch 37/100\n",
            "16/16 [==============================] - 0s 3ms/step - loss: 0.0045 - mse: 0.0045 - mae: 0.0369\n",
            "Epoch 38/100\n",
            "16/16 [==============================] - 0s 3ms/step - loss: 0.0045 - mse: 0.0045 - mae: 0.0371\n",
            "Epoch 39/100\n",
            "16/16 [==============================] - 0s 3ms/step - loss: 0.0045 - mse: 0.0045 - mae: 0.0379\n",
            "Epoch 40/100\n",
            "16/16 [==============================] - 0s 3ms/step - loss: 0.0044 - mse: 0.0044 - mae: 0.0365\n",
            "Epoch 41/100\n",
            "16/16 [==============================] - 0s 3ms/step - loss: 0.0044 - mse: 0.0044 - mae: 0.0366\n",
            "Epoch 42/100\n",
            "16/16 [==============================] - 0s 3ms/step - loss: 0.0044 - mse: 0.0044 - mae: 0.0369\n",
            "Epoch 43/100\n",
            "16/16 [==============================] - 0s 3ms/step - loss: 0.0044 - mse: 0.0044 - mae: 0.0371\n",
            "Epoch 44/100\n",
            "16/16 [==============================] - 0s 3ms/step - loss: 0.0044 - mse: 0.0044 - mae: 0.0361\n",
            "Epoch 45/100\n",
            "16/16 [==============================] - 0s 3ms/step - loss: 0.0044 - mse: 0.0044 - mae: 0.0369\n",
            "Epoch 46/100\n",
            "16/16 [==============================] - 0s 3ms/step - loss: 0.0044 - mse: 0.0044 - mae: 0.0362\n",
            "Epoch 47/100\n",
            "16/16 [==============================] - 0s 3ms/step - loss: 0.0044 - mse: 0.0044 - mae: 0.0359\n",
            "Epoch 48/100\n",
            "16/16 [==============================] - 0s 3ms/step - loss: 0.0044 - mse: 0.0044 - mae: 0.0366\n",
            "Epoch 49/100\n",
            "16/16 [==============================] - 0s 3ms/step - loss: 0.0043 - mse: 0.0043 - mae: 0.0357\n",
            "Epoch 50/100\n",
            "16/16 [==============================] - 0s 3ms/step - loss: 0.0043 - mse: 0.0043 - mae: 0.0358    \n",
            "Epoch 51/100\n",
            "16/16 [==============================] - 0s 3ms/step - loss: 0.0043 - mse: 0.0043 - mae: 0.0357\n",
            "Epoch 52/100\n",
            "16/16 [==============================] - 0s 3ms/step - loss: 0.0043 - mse: 0.0043 - mae: 0.0357\n",
            "Epoch 53/100\n",
            "16/16 [==============================] - 0s 3ms/step - loss: 0.0043 - mse: 0.0043 - mae: 0.0350\n",
            "Epoch 54/100\n",
            "16/16 [==============================] - 0s 3ms/step - loss: 0.0043 - mse: 0.0043 - mae: 0.0358\n",
            "Epoch 55/100\n",
            "16/16 [==============================] - 0s 3ms/step - loss: 0.0043 - mse: 0.0043 - mae: 0.0352    \n",
            "Epoch 56/100\n",
            "16/16 [==============================] - 0s 3ms/step - loss: 0.0043 - mse: 0.0043 - mae: 0.0348\n",
            "Epoch 57/100\n",
            "16/16 [==============================] - 0s 3ms/step - loss: 0.0043 - mse: 0.0043 - mae: 0.0349\n",
            "Epoch 58/100\n",
            "16/16 [==============================] - 0s 3ms/step - loss: 0.0043 - mse: 0.0043 - mae: 0.0346\n",
            "Epoch 59/100\n",
            "16/16 [==============================] - 0s 3ms/step - loss: 0.0043 - mse: 0.0043 - mae: 0.0358\n",
            "Epoch 60/100\n",
            "16/16 [==============================] - 0s 3ms/step - loss: 0.0043 - mse: 0.0043 - mae: 0.0347\n",
            "Epoch 61/100\n",
            "16/16 [==============================] - 0s 3ms/step - loss: 0.0043 - mse: 0.0043 - mae: 0.0344\n",
            "Epoch 62/100\n",
            "16/16 [==============================] - 0s 3ms/step - loss: 0.0043 - mse: 0.0043 - mae: 0.0348\n",
            "Epoch 63/100\n",
            "16/16 [==============================] - 0s 3ms/step - loss: 0.0043 - mse: 0.0043 - mae: 0.0342\n",
            "Epoch 64/100\n",
            "16/16 [==============================] - 0s 3ms/step - loss: 0.0042 - mse: 0.0042 - mae: 0.0347\n",
            "Epoch 65/100\n",
            "16/16 [==============================] - 0s 3ms/step - loss: 0.0042 - mse: 0.0042 - mae: 0.0347\n",
            "Epoch 66/100\n",
            "16/16 [==============================] - 0s 3ms/step - loss: 0.0043 - mse: 0.0043 - mae: 0.0344\n",
            "Epoch 67/100\n",
            "16/16 [==============================] - 0s 3ms/step - loss: 0.0042 - mse: 0.0042 - mae: 0.0344\n",
            "Epoch 68/100\n",
            "16/16 [==============================] - 0s 3ms/step - loss: 0.0042 - mse: 0.0042 - mae: 0.0343\n",
            "Epoch 69/100\n",
            "16/16 [==============================] - 0s 3ms/step - loss: 0.0042 - mse: 0.0042 - mae: 0.0341\n",
            "Epoch 70/100\n",
            "16/16 [==============================] - 0s 3ms/step - loss: 0.0042 - mse: 0.0042 - mae: 0.0333\n",
            "Epoch 71/100\n",
            "16/16 [==============================] - 0s 3ms/step - loss: 0.0042 - mse: 0.0042 - mae: 0.0337\n",
            "Epoch 72/100\n",
            "16/16 [==============================] - 0s 3ms/step - loss: 0.0042 - mse: 0.0042 - mae: 0.0327\n",
            "Epoch 73/100\n",
            "16/16 [==============================] - 0s 3ms/step - loss: 0.0042 - mse: 0.0042 - mae: 0.0332\n",
            "Epoch 74/100\n",
            "16/16 [==============================] - 0s 3ms/step - loss: 0.0041 - mse: 0.0041 - mae: 0.0325\n",
            "Epoch 75/100\n",
            "16/16 [==============================] - 0s 3ms/step - loss: 0.0041 - mse: 0.0041 - mae: 0.0326\n",
            "Epoch 76/100\n",
            "16/16 [==============================] - 0s 3ms/step - loss: 0.0041 - mse: 0.0041 - mae: 0.0325\n",
            "Epoch 77/100\n",
            "16/16 [==============================] - 0s 3ms/step - loss: 0.0041 - mse: 0.0041 - mae: 0.0326\n",
            "Epoch 78/100\n",
            "16/16 [==============================] - 0s 3ms/step - loss: 0.0042 - mse: 0.0042 - mae: 0.0332\n",
            "Epoch 79/100\n",
            "16/16 [==============================] - 0s 3ms/step - loss: 0.0041 - mse: 0.0041 - mae: 0.0320\n",
            "Epoch 80/100\n",
            "16/16 [==============================] - 0s 3ms/step - loss: 0.0041 - mse: 0.0041 - mae: 0.0332\n",
            "Epoch 81/100\n",
            "16/16 [==============================] - 0s 3ms/step - loss: 0.0041 - mse: 0.0041 - mae: 0.0320\n",
            "Epoch 82/100\n",
            "16/16 [==============================] - 0s 3ms/step - loss: 0.0041 - mse: 0.0041 - mae: 0.0327\n",
            "Epoch 83/100\n",
            "16/16 [==============================] - 0s 3ms/step - loss: 0.0041 - mse: 0.0041 - mae: 0.0331\n",
            "Epoch 84/100\n",
            "16/16 [==============================] - 0s 3ms/step - loss: 0.0041 - mse: 0.0041 - mae: 0.0326\n",
            "Epoch 85/100\n",
            "16/16 [==============================] - 0s 3ms/step - loss: 0.0041 - mse: 0.0041 - mae: 0.0326\n",
            "Epoch 86/100\n",
            "16/16 [==============================] - 0s 3ms/step - loss: 0.0041 - mse: 0.0041 - mae: 0.0322\n",
            "Epoch 87/100\n",
            "16/16 [==============================] - 0s 3ms/step - loss: 0.0040 - mse: 0.0040 - mae: 0.0321\n",
            "Epoch 88/100\n",
            "16/16 [==============================] - 0s 3ms/step - loss: 0.0040 - mse: 0.0040 - mae: 0.0321\n",
            "Epoch 89/100\n",
            "16/16 [==============================] - 0s 3ms/step - loss: 0.0041 - mse: 0.0041 - mae: 0.0330\n",
            "Epoch 90/100\n",
            "16/16 [==============================] - 0s 3ms/step - loss: 0.0040 - mse: 0.0040 - mae: 0.0317\n",
            "Epoch 91/100\n",
            "16/16 [==============================] - 0s 3ms/step - loss: 0.0040 - mse: 0.0040 - mae: 0.0322\n",
            "Epoch 92/100\n",
            "16/16 [==============================] - 0s 3ms/step - loss: 0.0040 - mse: 0.0040 - mae: 0.0324\n",
            "Epoch 93/100\n",
            "16/16 [==============================] - 0s 3ms/step - loss: 0.0040 - mse: 0.0040 - mae: 0.0320\n",
            "Epoch 94/100\n",
            "16/16 [==============================] - 0s 3ms/step - loss: 0.0040 - mse: 0.0040 - mae: 0.0322\n",
            "Epoch 95/100\n",
            "16/16 [==============================] - 0s 3ms/step - loss: 0.0040 - mse: 0.0040 - mae: 0.0318    \n",
            "Epoch 96/100\n",
            "16/16 [==============================] - 0s 3ms/step - loss: 0.0040 - mse: 0.0040 - mae: 0.0319\n",
            "Epoch 97/100\n",
            "16/16 [==============================] - 0s 3ms/step - loss: 0.0040 - mse: 0.0040 - mae: 0.0319\n",
            "Epoch 98/100\n",
            "16/16 [==============================] - 0s 3ms/step - loss: 0.0040 - mse: 0.0040 - mae: 0.0316\n",
            "Epoch 99/100\n",
            "16/16 [==============================] - 0s 3ms/step - loss: 0.0040 - mse: 0.0040 - mae: 0.0321\n",
            "Epoch 100/100\n",
            "16/16 [==============================] - 0s 3ms/step - loss: 0.0039 - mse: 0.0039 - mae: 0.0311\n"
          ],
          "name": "stdout"
        },
        {
          "output_type": "execute_result",
          "data": {
            "text/plain": [
              "<tensorflow.python.keras.callbacks.History at 0x7fce753535f8>"
            ]
          },
          "metadata": {
            "tags": []
          },
          "execution_count": 12
        }
      ]
    },
    {
      "cell_type": "code",
      "metadata": {
        "id": "jjPtX91AUHIk",
        "colab_type": "code",
        "colab": {
          "base_uri": "https://localhost:8080/",
          "height": 71
        },
        "outputId": "3adbab02-437d-42ab-a2a4-a9fd01ca716f"
      },
      "source": [
        "model.evaluate(x,y) #*(maxx - minn) + minn"
      ],
      "execution_count": 13,
      "outputs": [
        {
          "output_type": "stream",
          "text": [
            "16/16 [==============================] - 0s 1ms/step - loss: 0.0039 - mse: 0.0039 - mae: 0.0316\n"
          ],
          "name": "stdout"
        },
        {
          "output_type": "execute_result",
          "data": {
            "text/plain": [
              "[0.00393439456820488, 0.00393439456820488, 0.031572237610816956]"
            ]
          },
          "metadata": {
            "tags": []
          },
          "execution_count": 13
        }
      ]
    },
    {
      "cell_type": "code",
      "metadata": {
        "id": "KoNCFg-ySbbH",
        "colab_type": "code",
        "colab": {}
      },
      "source": [
        "# preds = model.predict(x)*(maxx - minn) + minn"
      ],
      "execution_count": 14,
      "outputs": []
    },
    {
      "cell_type": "markdown",
      "metadata": {
        "id": "vCvb3bWB2nsc",
        "colab_type": "text"
      },
      "source": [
        "### Baseline, mse: 0.0102 rse: 0.0488"
      ]
    },
    {
      "cell_type": "code",
      "metadata": {
        "id": "xnpiavREdeHk",
        "colab_type": "code",
        "colab": {}
      },
      "source": [
        "last = x[:,-1,:]"
      ],
      "execution_count": 15,
      "outputs": []
    },
    {
      "cell_type": "code",
      "metadata": {
        "id": "lqm0e_lZdunh",
        "colab_type": "code",
        "colab": {
          "base_uri": "https://localhost:8080/",
          "height": 34
        },
        "outputId": "db902dac-9d7d-42e9-bba3-35bff0d62e6d"
      },
      "source": [
        "print(mean_squared_error(last,y), mean_absolute_error(last,y))"
      ],
      "execution_count": 16,
      "outputs": [
        {
          "output_type": "stream",
          "text": [
            "0.010203777677728435 0.048848464072459255\n"
          ],
          "name": "stdout"
        }
      ]
    },
    {
      "cell_type": "markdown",
      "metadata": {
        "id": "rezY3TMX21pw",
        "colab_type": "text"
      },
      "source": [
        "### MLP, mse: 0.0200 - mae: 0.0861"
      ]
    },
    {
      "cell_type": "code",
      "metadata": {
        "id": "wsLrbrtzei_A",
        "colab_type": "code",
        "colab": {
          "base_uri": "https://localhost:8080/",
          "height": 0
        },
        "outputId": "33b2c453-e87f-458c-8af0-ecce4df187ec"
      },
      "source": [
        "mlp = tf.keras.models.Sequential([\n",
        "                  tf.keras.layers.Dense(5,activation=\"relu\"),\n",
        "                  tf.keras.layers.Dense(1, activation=\"relu\")\n",
        "])\n",
        "\n",
        "mlp.compile(loss='mse', optimizer='adam', metrics=['mse', 'mae'])\n",
        "\n",
        "mlp.fit(x=x,y=y, epochs=100, verbose=1)"
      ],
      "execution_count": 17,
      "outputs": [
        {
          "output_type": "stream",
          "text": [
            "Epoch 1/100\n",
            "16/16 [==============================] - 0s 1ms/step - loss: 0.3202 - mse: 0.3202 - mae: 0.3952\n",
            "Epoch 2/100\n",
            "16/16 [==============================] - 0s 1ms/step - loss: 0.3202 - mse: 0.3202 - mae: 0.3952\n",
            "Epoch 3/100\n",
            "16/16 [==============================] - 0s 1ms/step - loss: 0.3202 - mse: 0.3202 - mae: 0.3952\n",
            "Epoch 4/100\n",
            "16/16 [==============================] - 0s 1ms/step - loss: 0.3202 - mse: 0.3202 - mae: 0.3952\n",
            "Epoch 5/100\n",
            "16/16 [==============================] - 0s 1ms/step - loss: 0.3202 - mse: 0.3202 - mae: 0.3952\n",
            "Epoch 6/100\n",
            "16/16 [==============================] - 0s 1ms/step - loss: 0.3202 - mse: 0.3202 - mae: 0.3952\n",
            "Epoch 7/100\n",
            "16/16 [==============================] - 0s 1ms/step - loss: 0.3202 - mse: 0.3202 - mae: 0.3952\n",
            "Epoch 8/100\n",
            "16/16 [==============================] - 0s 1ms/step - loss: 0.3202 - mse: 0.3202 - mae: 0.3952\n",
            "Epoch 9/100\n",
            "16/16 [==============================] - 0s 1ms/step - loss: 0.3202 - mse: 0.3202 - mae: 0.3952\n",
            "Epoch 10/100\n",
            "16/16 [==============================] - 0s 1ms/step - loss: 0.3202 - mse: 0.3202 - mae: 0.3952\n",
            "Epoch 11/100\n",
            "16/16 [==============================] - 0s 1ms/step - loss: 0.3202 - mse: 0.3202 - mae: 0.3952\n",
            "Epoch 12/100\n",
            "16/16 [==============================] - 0s 1ms/step - loss: 0.3202 - mse: 0.3202 - mae: 0.3952\n",
            "Epoch 13/100\n",
            "16/16 [==============================] - 0s 1ms/step - loss: 0.3202 - mse: 0.3202 - mae: 0.3952\n",
            "Epoch 14/100\n",
            "16/16 [==============================] - 0s 1ms/step - loss: 0.3202 - mse: 0.3202 - mae: 0.3952\n",
            "Epoch 15/100\n",
            "16/16 [==============================] - 0s 1ms/step - loss: 0.3202 - mse: 0.3202 - mae: 0.3952\n",
            "Epoch 16/100\n",
            "16/16 [==============================] - 0s 1ms/step - loss: 0.3202 - mse: 0.3202 - mae: 0.3952\n",
            "Epoch 17/100\n",
            "16/16 [==============================] - 0s 1ms/step - loss: 0.3202 - mse: 0.3202 - mae: 0.3952\n",
            "Epoch 18/100\n",
            "16/16 [==============================] - 0s 1ms/step - loss: 0.3202 - mse: 0.3202 - mae: 0.3952\n",
            "Epoch 19/100\n",
            "16/16 [==============================] - 0s 1ms/step - loss: 0.3202 - mse: 0.3202 - mae: 0.3952\n",
            "Epoch 20/100\n",
            "16/16 [==============================] - 0s 1ms/step - loss: 0.3202 - mse: 0.3202 - mae: 0.3952\n",
            "Epoch 21/100\n",
            "16/16 [==============================] - 0s 1ms/step - loss: 0.3202 - mse: 0.3202 - mae: 0.3952\n",
            "Epoch 22/100\n",
            "16/16 [==============================] - 0s 1ms/step - loss: 0.3202 - mse: 0.3202 - mae: 0.3952\n",
            "Epoch 23/100\n",
            "16/16 [==============================] - 0s 1ms/step - loss: 0.3202 - mse: 0.3202 - mae: 0.3952\n",
            "Epoch 24/100\n",
            "16/16 [==============================] - 0s 1ms/step - loss: 0.3202 - mse: 0.3202 - mae: 0.3952\n",
            "Epoch 25/100\n",
            "16/16 [==============================] - 0s 2ms/step - loss: 0.3202 - mse: 0.3202 - mae: 0.3952\n",
            "Epoch 26/100\n",
            "16/16 [==============================] - 0s 1ms/step - loss: 0.3202 - mse: 0.3202 - mae: 0.3952\n",
            "Epoch 27/100\n",
            "16/16 [==============================] - 0s 1ms/step - loss: 0.3202 - mse: 0.3202 - mae: 0.3952\n",
            "Epoch 28/100\n",
            "16/16 [==============================] - 0s 1ms/step - loss: 0.3202 - mse: 0.3202 - mae: 0.3952\n",
            "Epoch 29/100\n",
            "16/16 [==============================] - 0s 1ms/step - loss: 0.3202 - mse: 0.3202 - mae: 0.3952\n",
            "Epoch 30/100\n",
            "16/16 [==============================] - 0s 1ms/step - loss: 0.3202 - mse: 0.3202 - mae: 0.3952\n",
            "Epoch 31/100\n",
            "16/16 [==============================] - 0s 1ms/step - loss: 0.3202 - mse: 0.3202 - mae: 0.3952\n",
            "Epoch 32/100\n",
            "16/16 [==============================] - 0s 1ms/step - loss: 0.3202 - mse: 0.3202 - mae: 0.3952\n",
            "Epoch 33/100\n",
            "16/16 [==============================] - 0s 1ms/step - loss: 0.3202 - mse: 0.3202 - mae: 0.3952\n",
            "Epoch 34/100\n",
            "16/16 [==============================] - 0s 1ms/step - loss: 0.3202 - mse: 0.3202 - mae: 0.3952\n",
            "Epoch 35/100\n",
            "16/16 [==============================] - 0s 1ms/step - loss: 0.3202 - mse: 0.3202 - mae: 0.3952\n",
            "Epoch 36/100\n",
            "16/16 [==============================] - 0s 1ms/step - loss: 0.3202 - mse: 0.3202 - mae: 0.3952\n",
            "Epoch 37/100\n",
            "16/16 [==============================] - 0s 1ms/step - loss: 0.3202 - mse: 0.3202 - mae: 0.3952\n",
            "Epoch 38/100\n",
            "16/16 [==============================] - 0s 1ms/step - loss: 0.3202 - mse: 0.3202 - mae: 0.3952\n",
            "Epoch 39/100\n",
            "16/16 [==============================] - 0s 1ms/step - loss: 0.3202 - mse: 0.3202 - mae: 0.3952\n",
            "Epoch 40/100\n",
            "16/16 [==============================] - 0s 2ms/step - loss: 0.3202 - mse: 0.3202 - mae: 0.3952\n",
            "Epoch 41/100\n",
            "16/16 [==============================] - 0s 1ms/step - loss: 0.3202 - mse: 0.3202 - mae: 0.3952\n",
            "Epoch 42/100\n",
            "16/16 [==============================] - 0s 1ms/step - loss: 0.3202 - mse: 0.3202 - mae: 0.3952\n",
            "Epoch 43/100\n",
            "16/16 [==============================] - 0s 1ms/step - loss: 0.3202 - mse: 0.3202 - mae: 0.3952\n",
            "Epoch 44/100\n",
            "16/16 [==============================] - 0s 1ms/step - loss: 0.3202 - mse: 0.3202 - mae: 0.3952\n",
            "Epoch 45/100\n",
            "16/16 [==============================] - 0s 1ms/step - loss: 0.3202 - mse: 0.3202 - mae: 0.3952\n",
            "Epoch 46/100\n",
            "16/16 [==============================] - 0s 1ms/step - loss: 0.3202 - mse: 0.3202 - mae: 0.3952\n",
            "Epoch 47/100\n",
            "16/16 [==============================] - 0s 1ms/step - loss: 0.3202 - mse: 0.3202 - mae: 0.3952\n",
            "Epoch 48/100\n",
            "16/16 [==============================] - 0s 1ms/step - loss: 0.3202 - mse: 0.3202 - mae: 0.3952\n",
            "Epoch 49/100\n",
            "16/16 [==============================] - 0s 1ms/step - loss: 0.3202 - mse: 0.3202 - mae: 0.3952\n",
            "Epoch 50/100\n",
            "16/16 [==============================] - 0s 1ms/step - loss: 0.3202 - mse: 0.3202 - mae: 0.3952\n",
            "Epoch 51/100\n",
            "16/16 [==============================] - 0s 1ms/step - loss: 0.3202 - mse: 0.3202 - mae: 0.3952\n",
            "Epoch 52/100\n",
            "16/16 [==============================] - 0s 1ms/step - loss: 0.3202 - mse: 0.3202 - mae: 0.3952\n",
            "Epoch 53/100\n",
            "16/16 [==============================] - 0s 1ms/step - loss: 0.3202 - mse: 0.3202 - mae: 0.3952\n",
            "Epoch 54/100\n",
            "16/16 [==============================] - 0s 1ms/step - loss: 0.3202 - mse: 0.3202 - mae: 0.3952\n",
            "Epoch 55/100\n",
            "16/16 [==============================] - 0s 1ms/step - loss: 0.3202 - mse: 0.3202 - mae: 0.3952\n",
            "Epoch 56/100\n",
            "16/16 [==============================] - 0s 1ms/step - loss: 0.3202 - mse: 0.3202 - mae: 0.3952\n",
            "Epoch 57/100\n",
            "16/16 [==============================] - 0s 1ms/step - loss: 0.3202 - mse: 0.3202 - mae: 0.3952\n",
            "Epoch 58/100\n",
            "16/16 [==============================] - 0s 1ms/step - loss: 0.3202 - mse: 0.3202 - mae: 0.3952\n",
            "Epoch 59/100\n",
            "16/16 [==============================] - 0s 1ms/step - loss: 0.3202 - mse: 0.3202 - mae: 0.3952\n",
            "Epoch 60/100\n",
            "16/16 [==============================] - 0s 1ms/step - loss: 0.3202 - mse: 0.3202 - mae: 0.3952\n",
            "Epoch 61/100\n",
            "16/16 [==============================] - 0s 1ms/step - loss: 0.3202 - mse: 0.3202 - mae: 0.3952\n",
            "Epoch 62/100\n",
            "16/16 [==============================] - 0s 1ms/step - loss: 0.3202 - mse: 0.3202 - mae: 0.3952\n",
            "Epoch 63/100\n",
            "16/16 [==============================] - 0s 1ms/step - loss: 0.3202 - mse: 0.3202 - mae: 0.3952\n",
            "Epoch 64/100\n",
            "16/16 [==============================] - 0s 1ms/step - loss: 0.3202 - mse: 0.3202 - mae: 0.3952\n",
            "Epoch 65/100\n",
            "16/16 [==============================] - 0s 1ms/step - loss: 0.3202 - mse: 0.3202 - mae: 0.3952\n",
            "Epoch 66/100\n",
            "16/16 [==============================] - 0s 1ms/step - loss: 0.3202 - mse: 0.3202 - mae: 0.3952\n",
            "Epoch 67/100\n",
            "16/16 [==============================] - 0s 1ms/step - loss: 0.3202 - mse: 0.3202 - mae: 0.3952\n",
            "Epoch 68/100\n",
            "16/16 [==============================] - 0s 1ms/step - loss: 0.3202 - mse: 0.3202 - mae: 0.3952\n",
            "Epoch 69/100\n",
            "16/16 [==============================] - 0s 1ms/step - loss: 0.3202 - mse: 0.3202 - mae: 0.3952\n",
            "Epoch 70/100\n",
            "16/16 [==============================] - 0s 1ms/step - loss: 0.3202 - mse: 0.3202 - mae: 0.3952\n",
            "Epoch 71/100\n",
            "16/16 [==============================] - 0s 1ms/step - loss: 0.3202 - mse: 0.3202 - mae: 0.3952\n",
            "Epoch 72/100\n",
            "16/16 [==============================] - 0s 1ms/step - loss: 0.3202 - mse: 0.3202 - mae: 0.3952\n",
            "Epoch 73/100\n",
            "16/16 [==============================] - 0s 1ms/step - loss: 0.3202 - mse: 0.3202 - mae: 0.3952\n",
            "Epoch 74/100\n",
            "16/16 [==============================] - 0s 1ms/step - loss: 0.3202 - mse: 0.3202 - mae: 0.3952\n",
            "Epoch 75/100\n",
            "16/16 [==============================] - 0s 1ms/step - loss: 0.3202 - mse: 0.3202 - mae: 0.3952\n",
            "Epoch 76/100\n",
            "16/16 [==============================] - 0s 1ms/step - loss: 0.3202 - mse: 0.3202 - mae: 0.3952\n",
            "Epoch 77/100\n",
            "16/16 [==============================] - 0s 1ms/step - loss: 0.3202 - mse: 0.3202 - mae: 0.3952\n",
            "Epoch 78/100\n",
            "16/16 [==============================] - 0s 1ms/step - loss: 0.3202 - mse: 0.3202 - mae: 0.3952\n",
            "Epoch 79/100\n",
            "16/16 [==============================] - 0s 1ms/step - loss: 0.3202 - mse: 0.3202 - mae: 0.3952\n",
            "Epoch 80/100\n",
            "16/16 [==============================] - 0s 1ms/step - loss: 0.3202 - mse: 0.3202 - mae: 0.3952\n",
            "Epoch 81/100\n",
            "16/16 [==============================] - 0s 1ms/step - loss: 0.3202 - mse: 0.3202 - mae: 0.3952\n",
            "Epoch 82/100\n",
            "16/16 [==============================] - 0s 1ms/step - loss: 0.3202 - mse: 0.3202 - mae: 0.3952\n",
            "Epoch 83/100\n",
            "16/16 [==============================] - 0s 1ms/step - loss: 0.3202 - mse: 0.3202 - mae: 0.3952\n",
            "Epoch 84/100\n",
            "16/16 [==============================] - 0s 1ms/step - loss: 0.3202 - mse: 0.3202 - mae: 0.3952\n",
            "Epoch 85/100\n",
            "16/16 [==============================] - 0s 1ms/step - loss: 0.3202 - mse: 0.3202 - mae: 0.3952\n",
            "Epoch 86/100\n",
            "16/16 [==============================] - 0s 1ms/step - loss: 0.3202 - mse: 0.3202 - mae: 0.3952\n",
            "Epoch 87/100\n",
            "16/16 [==============================] - 0s 1ms/step - loss: 0.3202 - mse: 0.3202 - mae: 0.3952\n",
            "Epoch 88/100\n",
            "16/16 [==============================] - 0s 1ms/step - loss: 0.3202 - mse: 0.3202 - mae: 0.3952\n",
            "Epoch 89/100\n",
            "16/16 [==============================] - 0s 1ms/step - loss: 0.3202 - mse: 0.3202 - mae: 0.3952\n",
            "Epoch 90/100\n",
            "16/16 [==============================] - 0s 1ms/step - loss: 0.3202 - mse: 0.3202 - mae: 0.3952\n",
            "Epoch 91/100\n",
            "16/16 [==============================] - 0s 1ms/step - loss: 0.3202 - mse: 0.3202 - mae: 0.3952\n",
            "Epoch 92/100\n",
            "16/16 [==============================] - 0s 1ms/step - loss: 0.3202 - mse: 0.3202 - mae: 0.3952\n",
            "Epoch 93/100\n",
            "16/16 [==============================] - 0s 1ms/step - loss: 0.3202 - mse: 0.3202 - mae: 0.3952\n",
            "Epoch 94/100\n",
            "16/16 [==============================] - 0s 1ms/step - loss: 0.3202 - mse: 0.3202 - mae: 0.3952\n",
            "Epoch 95/100\n",
            "16/16 [==============================] - 0s 1ms/step - loss: 0.3202 - mse: 0.3202 - mae: 0.3952\n",
            "Epoch 96/100\n",
            "16/16 [==============================] - 0s 1ms/step - loss: 0.3202 - mse: 0.3202 - mae: 0.3952\n",
            "Epoch 97/100\n",
            "16/16 [==============================] - 0s 1ms/step - loss: 0.3202 - mse: 0.3202 - mae: 0.3952\n",
            "Epoch 98/100\n",
            "16/16 [==============================] - 0s 1ms/step - loss: 0.3202 - mse: 0.3202 - mae: 0.3952\n",
            "Epoch 99/100\n",
            "16/16 [==============================] - 0s 1ms/step - loss: 0.3202 - mse: 0.3202 - mae: 0.3952\n",
            "Epoch 100/100\n",
            "16/16 [==============================] - 0s 1ms/step - loss: 0.3202 - mse: 0.3202 - mae: 0.3952\n"
          ],
          "name": "stdout"
        },
        {
          "output_type": "execute_result",
          "data": {
            "text/plain": [
              "<tensorflow.python.keras.callbacks.History at 0x7fce72138828>"
            ]
          },
          "metadata": {
            "tags": []
          },
          "execution_count": 17
        }
      ]
    },
    {
      "cell_type": "code",
      "metadata": {
        "id": "8Dw9qQY3fYJ6",
        "colab_type": "code",
        "colab": {
          "base_uri": "https://localhost:8080/",
          "height": 0
        },
        "outputId": "f0cf03dc-8ab6-4509-a4e2-281efe073976"
      },
      "source": [
        "mlp.evaluate(x,y) #*(maxx - minn) + minn"
      ],
      "execution_count": 18,
      "outputs": [
        {
          "output_type": "stream",
          "text": [
            "16/16 [==============================] - 0s 1ms/step - loss: 0.3202 - mse: 0.3202 - mae: 0.3952\n"
          ],
          "name": "stdout"
        },
        {
          "output_type": "execute_result",
          "data": {
            "text/plain": [
              "[0.3202061355113983, 0.3202061355113983, 0.39516425132751465]"
            ]
          },
          "metadata": {
            "tags": []
          },
          "execution_count": 18
        }
      ]
    },
    {
      "cell_type": "markdown",
      "metadata": {
        "id": "PLJx6VShrrhA",
        "colab_type": "text"
      },
      "source": [
        "# Task2 data output"
      ]
    },
    {
      "cell_type": "code",
      "metadata": {
        "id": "MbtLTZwO55CQ",
        "colab_type": "code",
        "colab": {
          "base_uri": "https://localhost:8080/",
          "height": 34
        },
        "outputId": "b5f53e82-ede5-4066-a764-96a0bb92286b"
      },
      "source": [
        "x_test = np.array(tdf.iloc[:,2:].values)\n",
        "# print(x_test.shape)\n",
        "# y = tdf.iloc[:,-1]\n",
        "\n",
        "x_test = x_test[:,:, np.newaxis]\n",
        "# y = y[:, np.newaxis]\n",
        "\n",
        "# minn = x.min()\n",
        "# maxx = x.max()\n",
        "\n",
        "x_test = (x_test - minn)/(maxx- minn)\n",
        "# print(x)\n",
        "\n",
        "# y = (y - minn)/(maxx - minn)\n",
        "# print(y)\n",
        "\n",
        "print(x_test.shape)"
      ],
      "execution_count": 19,
      "outputs": [
        {
          "output_type": "stream",
          "text": [
            "(501, 4, 1)\n"
          ],
          "name": "stdout"
        }
      ]
    },
    {
      "cell_type": "code",
      "metadata": {
        "id": "s-F1wc9k60YY",
        "colab_type": "code",
        "colab": {}
      },
      "source": [
        "preds = model.predict(x_test)*(maxx - minn) + minn"
      ],
      "execution_count": 20,
      "outputs": []
    },
    {
      "cell_type": "code",
      "metadata": {
        "id": "PHd4EpsC5j78",
        "colab_type": "code",
        "colab": {
          "base_uri": "https://localhost:8080/",
          "height": 255
        },
        "outputId": "33cbae61-93f4-4a66-85c4-952d99625fde"
      },
      "source": [
        "output_df = pd.read_excel('Test_dataset.xlsx', sheet_name = 0, header=0)\n",
        "output_df.head()"
      ],
      "execution_count": 25,
      "outputs": [
        {
          "output_type": "execute_result",
          "data": {
            "text/html": [
              "<div>\n",
              "<style scoped>\n",
              "    .dataframe tbody tr th:only-of-type {\n",
              "        vertical-align: middle;\n",
              "    }\n",
              "\n",
              "    .dataframe tbody tr th {\n",
              "        vertical-align: top;\n",
              "    }\n",
              "\n",
              "    .dataframe thead th {\n",
              "        text-align: right;\n",
              "    }\n",
              "</style>\n",
              "<table border=\"1\" class=\"dataframe\">\n",
              "  <thead>\n",
              "    <tr style=\"text-align: right;\">\n",
              "      <th></th>\n",
              "      <th>City</th>\n",
              "      <th>State</th>\n",
              "      <th>Type</th>\n",
              "      <th>Population [2011]</th>\n",
              "      <th>Popuation [2001]</th>\n",
              "      <th>Sex Ratio</th>\n",
              "      <th>Median Age</th>\n",
              "      <th>Avg Temp</th>\n",
              "      <th>SWM</th>\n",
              "      <th>Toilets Avl</th>\n",
              "      <th>Water Purity</th>\n",
              "      <th>H Index</th>\n",
              "      <th>Female Population</th>\n",
              "      <th># of hospitals</th>\n",
              "      <th>Foreign Visitors</th>\n",
              "    </tr>\n",
              "  </thead>\n",
              "  <tbody>\n",
              "    <tr>\n",
              "      <th>0</th>\n",
              "      <td>Tuensang</td>\n",
              "      <td>Nagaland</td>\n",
              "      <td>T.C</td>\n",
              "      <td>36774.0</td>\n",
              "      <td>NaN</td>\n",
              "      <td>931.0</td>\n",
              "      <td>23.0</td>\n",
              "      <td>10.0</td>\n",
              "      <td>MEDIUM</td>\n",
              "      <td>94.0</td>\n",
              "      <td>114.0</td>\n",
              "      <td>0.253390</td>\n",
              "      <td>34237.0</td>\n",
              "      <td>17.0</td>\n",
              "      <td>2769.0</td>\n",
              "    </tr>\n",
              "    <tr>\n",
              "      <th>1</th>\n",
              "      <td>Lakshmeshwar</td>\n",
              "      <td>Karnataka</td>\n",
              "      <td>T.M.C</td>\n",
              "      <td>36754.0</td>\n",
              "      <td>NaN</td>\n",
              "      <td>934.0</td>\n",
              "      <td>25.0</td>\n",
              "      <td>38.0</td>\n",
              "      <td>HIGH</td>\n",
              "      <td>62.0</td>\n",
              "      <td>160.0</td>\n",
              "      <td>0.192555</td>\n",
              "      <td>34328.0</td>\n",
              "      <td>13.0</td>\n",
              "      <td>636502.0</td>\n",
              "    </tr>\n",
              "    <tr>\n",
              "      <th>2</th>\n",
              "      <td>Zira</td>\n",
              "      <td>Punjab</td>\n",
              "      <td>M.Cl.</td>\n",
              "      <td>36732.0</td>\n",
              "      <td>NaN</td>\n",
              "      <td>883.0</td>\n",
              "      <td>29.0</td>\n",
              "      <td>35.0</td>\n",
              "      <td>HIGH</td>\n",
              "      <td>63.0</td>\n",
              "      <td>105.0</td>\n",
              "      <td>0.887882</td>\n",
              "      <td>32434.0</td>\n",
              "      <td>17.0</td>\n",
              "      <td>242367.0</td>\n",
              "    </tr>\n",
              "    <tr>\n",
              "      <th>3</th>\n",
              "      <td>Yawal</td>\n",
              "      <td>Maharashtra</td>\n",
              "      <td>M.Cl</td>\n",
              "      <td>36706.0</td>\n",
              "      <td>NaN</td>\n",
              "      <td>887.0</td>\n",
              "      <td>26.0</td>\n",
              "      <td>31.0</td>\n",
              "      <td>HIGH</td>\n",
              "      <td>60.0</td>\n",
              "      <td>174.0</td>\n",
              "      <td>0.407838</td>\n",
              "      <td>32558.0</td>\n",
              "      <td>11.0</td>\n",
              "      <td>4408916.0</td>\n",
              "    </tr>\n",
              "    <tr>\n",
              "      <th>4</th>\n",
              "      <td>Thana Bhawan</td>\n",
              "      <td>Uttar Pradesh</td>\n",
              "      <td>N.P.</td>\n",
              "      <td>36669.0</td>\n",
              "      <td>NaN</td>\n",
              "      <td>877.0</td>\n",
              "      <td>28.0</td>\n",
              "      <td>39.0</td>\n",
              "      <td>LOW</td>\n",
              "      <td>92.0</td>\n",
              "      <td>153.0</td>\n",
              "      <td>0.324456</td>\n",
              "      <td>32159.0</td>\n",
              "      <td>23.0</td>\n",
              "      <td>3104060.0</td>\n",
              "    </tr>\n",
              "  </tbody>\n",
              "</table>\n",
              "</div>"
            ],
            "text/plain": [
              "           City          State  ... # of hospitals  Foreign Visitors\n",
              "0      Tuensang       Nagaland  ...           17.0            2769.0\n",
              "1  Lakshmeshwar      Karnataka  ...           13.0          636502.0\n",
              "2          Zira         Punjab  ...           17.0          242367.0\n",
              "3         Yawal    Maharashtra  ...           11.0         4408916.0\n",
              "4  Thana Bhawan  Uttar Pradesh  ...           23.0         3104060.0\n",
              "\n",
              "[5 rows x 15 columns]"
            ]
          },
          "metadata": {
            "tags": []
          },
          "execution_count": 25
        }
      ]
    },
    {
      "cell_type": "code",
      "metadata": {
        "id": "AeHowy_Qrs6a",
        "colab_type": "code",
        "colab": {
          "base_uri": "https://localhost:8080/",
          "height": 34
        },
        "outputId": "dbf2b48b-c8b4-4a93-e104-a23ee5d74312"
      },
      "source": [
        "output_df.shape, preds.shape"
      ],
      "execution_count": 26,
      "outputs": [
        {
          "output_type": "execute_result",
          "data": {
            "text/plain": [
              "((501, 15), (501, 1))"
            ]
          },
          "metadata": {
            "tags": []
          },
          "execution_count": 26
        }
      ]
    },
    {
      "cell_type": "code",
      "metadata": {
        "id": "nqW1STCp7czE",
        "colab_type": "code",
        "colab": {}
      },
      "source": [
        "output_df['Foreign Visitors'] = preds"
      ],
      "execution_count": 27,
      "outputs": []
    },
    {
      "cell_type": "code",
      "metadata": {
        "id": "1tsDTyrS9dui",
        "colab_type": "code",
        "colab": {
          "base_uri": "https://localhost:8080/",
          "height": 255
        },
        "outputId": "3d10bde0-7f19-4f18-c390-db3638389807"
      },
      "source": [
        "output_df.head()"
      ],
      "execution_count": 28,
      "outputs": [
        {
          "output_type": "execute_result",
          "data": {
            "text/html": [
              "<div>\n",
              "<style scoped>\n",
              "    .dataframe tbody tr th:only-of-type {\n",
              "        vertical-align: middle;\n",
              "    }\n",
              "\n",
              "    .dataframe tbody tr th {\n",
              "        vertical-align: top;\n",
              "    }\n",
              "\n",
              "    .dataframe thead th {\n",
              "        text-align: right;\n",
              "    }\n",
              "</style>\n",
              "<table border=\"1\" class=\"dataframe\">\n",
              "  <thead>\n",
              "    <tr style=\"text-align: right;\">\n",
              "      <th></th>\n",
              "      <th>City</th>\n",
              "      <th>State</th>\n",
              "      <th>Type</th>\n",
              "      <th>Population [2011]</th>\n",
              "      <th>Popuation [2001]</th>\n",
              "      <th>Sex Ratio</th>\n",
              "      <th>Median Age</th>\n",
              "      <th>Avg Temp</th>\n",
              "      <th>SWM</th>\n",
              "      <th>Toilets Avl</th>\n",
              "      <th>Water Purity</th>\n",
              "      <th>H Index</th>\n",
              "      <th>Female Population</th>\n",
              "      <th># of hospitals</th>\n",
              "      <th>Foreign Visitors</th>\n",
              "    </tr>\n",
              "  </thead>\n",
              "  <tbody>\n",
              "    <tr>\n",
              "      <th>0</th>\n",
              "      <td>Tuensang</td>\n",
              "      <td>Nagaland</td>\n",
              "      <td>T.C</td>\n",
              "      <td>36774.0</td>\n",
              "      <td>NaN</td>\n",
              "      <td>931.0</td>\n",
              "      <td>23.0</td>\n",
              "      <td>10.0</td>\n",
              "      <td>MEDIUM</td>\n",
              "      <td>94.0</td>\n",
              "      <td>114.0</td>\n",
              "      <td>0.253390</td>\n",
              "      <td>34237.0</td>\n",
              "      <td>17.0</td>\n",
              "      <td>1.066507e+04</td>\n",
              "    </tr>\n",
              "    <tr>\n",
              "      <th>1</th>\n",
              "      <td>Lakshmeshwar</td>\n",
              "      <td>Karnataka</td>\n",
              "      <td>T.M.C</td>\n",
              "      <td>36754.0</td>\n",
              "      <td>NaN</td>\n",
              "      <td>934.0</td>\n",
              "      <td>25.0</td>\n",
              "      <td>38.0</td>\n",
              "      <td>HIGH</td>\n",
              "      <td>62.0</td>\n",
              "      <td>160.0</td>\n",
              "      <td>0.192555</td>\n",
              "      <td>34328.0</td>\n",
              "      <td>13.0</td>\n",
              "      <td>6.629805e+05</td>\n",
              "    </tr>\n",
              "    <tr>\n",
              "      <th>2</th>\n",
              "      <td>Zira</td>\n",
              "      <td>Punjab</td>\n",
              "      <td>M.Cl.</td>\n",
              "      <td>36732.0</td>\n",
              "      <td>NaN</td>\n",
              "      <td>883.0</td>\n",
              "      <td>29.0</td>\n",
              "      <td>35.0</td>\n",
              "      <td>HIGH</td>\n",
              "      <td>63.0</td>\n",
              "      <td>105.0</td>\n",
              "      <td>0.887882</td>\n",
              "      <td>32434.0</td>\n",
              "      <td>17.0</td>\n",
              "      <td>2.331244e+05</td>\n",
              "    </tr>\n",
              "    <tr>\n",
              "      <th>3</th>\n",
              "      <td>Yawal</td>\n",
              "      <td>Maharashtra</td>\n",
              "      <td>M.Cl</td>\n",
              "      <td>36706.0</td>\n",
              "      <td>NaN</td>\n",
              "      <td>887.0</td>\n",
              "      <td>26.0</td>\n",
              "      <td>31.0</td>\n",
              "      <td>HIGH</td>\n",
              "      <td>60.0</td>\n",
              "      <td>174.0</td>\n",
              "      <td>0.407838</td>\n",
              "      <td>32558.0</td>\n",
              "      <td>11.0</td>\n",
              "      <td>4.743584e+06</td>\n",
              "    </tr>\n",
              "    <tr>\n",
              "      <th>4</th>\n",
              "      <td>Thana Bhawan</td>\n",
              "      <td>Uttar Pradesh</td>\n",
              "      <td>N.P.</td>\n",
              "      <td>36669.0</td>\n",
              "      <td>NaN</td>\n",
              "      <td>877.0</td>\n",
              "      <td>28.0</td>\n",
              "      <td>39.0</td>\n",
              "      <td>LOW</td>\n",
              "      <td>92.0</td>\n",
              "      <td>153.0</td>\n",
              "      <td>0.324456</td>\n",
              "      <td>32159.0</td>\n",
              "      <td>23.0</td>\n",
              "      <td>3.853626e+06</td>\n",
              "    </tr>\n",
              "  </tbody>\n",
              "</table>\n",
              "</div>"
            ],
            "text/plain": [
              "           City          State  ... # of hospitals  Foreign Visitors\n",
              "0      Tuensang       Nagaland  ...           17.0      1.066507e+04\n",
              "1  Lakshmeshwar      Karnataka  ...           13.0      6.629805e+05\n",
              "2          Zira         Punjab  ...           17.0      2.331244e+05\n",
              "3         Yawal    Maharashtra  ...           11.0      4.743584e+06\n",
              "4  Thana Bhawan  Uttar Pradesh  ...           23.0      3.853626e+06\n",
              "\n",
              "[5 rows x 15 columns]"
            ]
          },
          "metadata": {
            "tags": []
          },
          "execution_count": 28
        }
      ]
    },
    {
      "cell_type": "code",
      "metadata": {
        "id": "XxzbjJsv9hLa",
        "colab_type": "code",
        "colab": {}
      },
      "source": [
        "output_df.to_excel('T2Test_dataset.xlsx')"
      ],
      "execution_count": 29,
      "outputs": []
    }
  ]
}